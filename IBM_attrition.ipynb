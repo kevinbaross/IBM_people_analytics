{
 "cells": [
  {
   "cell_type": "markdown",
   "id": "564394d8-6c7d-42ee-9e0a-759039c55f7a",
   "metadata": {},
   "source": [
    "### Predicting Employee Attrition at IBM\n",
    "\n",
    "#### By Kevin Ba Ross\n",
    "\n",
    "---"
   ]
  },
  {
   "cell_type": "code",
   "execution_count": 1,
   "id": "5d95cfb4-fa1d-409c-a108-ac305366756f",
   "metadata": {},
   "outputs": [],
   "source": [
    "# Import the modules\n",
    "import numpy as np\n",
    "import pandas as pd\n",
    "import tensorflow as tf\n",
    "\n",
    "from pathlib import Path\n",
    "from imblearn.metrics import classification_report_imbalanced\n",
    "\n",
    "from tensorflow.keras.layers import Dense\n",
    "from tensorflow.keras.models import Sequential\n",
    "from sklearn.model_selection import train_test_split\n",
    "from sklearn.preprocessing import StandardScaler,OneHotEncoder\n",
    "from sklearn.metrics import balanced_accuracy_score\n",
    "from sklearn.metrics import confusion_matrix\n",
    "import mba263\n",
    "import warnings\n",
    "warnings.filterwarnings('ignore')\n"
   ]
  },
  {
   "cell_type": "code",
   "execution_count": 2,
   "id": "e0d05fde-50fc-4f84-a6c0-f6e8ad389aba",
   "metadata": {},
   "outputs": [
    {
     "data": {
      "text/html": [
       "<div>\n",
       "<style scoped>\n",
       "    .dataframe tbody tr th:only-of-type {\n",
       "        vertical-align: middle;\n",
       "    }\n",
       "\n",
       "    .dataframe tbody tr th {\n",
       "        vertical-align: top;\n",
       "    }\n",
       "\n",
       "    .dataframe thead th {\n",
       "        text-align: right;\n",
       "    }\n",
       "</style>\n",
       "<table border=\"1\" class=\"dataframe\">\n",
       "  <thead>\n",
       "    <tr style=\"text-align: right;\">\n",
       "      <th></th>\n",
       "      <th>Attrition_binary</th>\n",
       "      <th>Age</th>\n",
       "      <th>JobSatisfaction</th>\n",
       "      <th>Education</th>\n",
       "      <th>EducationField</th>\n",
       "      <th>EnvironmentSatisfaction</th>\n",
       "      <th>Gender</th>\n",
       "      <th>HourlyRate</th>\n",
       "      <th>JobInvolvement</th>\n",
       "      <th>MaritalStatus</th>\n",
       "      <th>...</th>\n",
       "      <th>WorkLifeBalance</th>\n",
       "      <th>YearsAtCompany</th>\n",
       "      <th>YearsInCurrentRole</th>\n",
       "      <th>YearsSinceLastPromotion</th>\n",
       "      <th>YearsWithCurrManager</th>\n",
       "      <th>Department</th>\n",
       "      <th>MonthlyIncome</th>\n",
       "      <th>PercentSalaryHike</th>\n",
       "      <th>children</th>\n",
       "      <th>Manager_relation_satisfaction</th>\n",
       "    </tr>\n",
       "    <tr>\n",
       "      <th>EmployeeID</th>\n",
       "      <th></th>\n",
       "      <th></th>\n",
       "      <th></th>\n",
       "      <th></th>\n",
       "      <th></th>\n",
       "      <th></th>\n",
       "      <th></th>\n",
       "      <th></th>\n",
       "      <th></th>\n",
       "      <th></th>\n",
       "      <th></th>\n",
       "      <th></th>\n",
       "      <th></th>\n",
       "      <th></th>\n",
       "      <th></th>\n",
       "      <th></th>\n",
       "      <th></th>\n",
       "      <th></th>\n",
       "      <th></th>\n",
       "      <th></th>\n",
       "      <th></th>\n",
       "    </tr>\n",
       "  </thead>\n",
       "  <tbody>\n",
       "    <tr>\n",
       "      <th>1</th>\n",
       "      <td>1</td>\n",
       "      <td>41</td>\n",
       "      <td>4</td>\n",
       "      <td>2</td>\n",
       "      <td>Life Sciences</td>\n",
       "      <td>2</td>\n",
       "      <td>Female</td>\n",
       "      <td>94</td>\n",
       "      <td>3</td>\n",
       "      <td>Single</td>\n",
       "      <td>...</td>\n",
       "      <td>1</td>\n",
       "      <td>6</td>\n",
       "      <td>4</td>\n",
       "      <td>0</td>\n",
       "      <td>5</td>\n",
       "      <td>Sales</td>\n",
       "      <td>5993</td>\n",
       "      <td>11</td>\n",
       "      <td>0</td>\n",
       "      <td>1</td>\n",
       "    </tr>\n",
       "    <tr>\n",
       "      <th>2</th>\n",
       "      <td>1</td>\n",
       "      <td>37</td>\n",
       "      <td>3</td>\n",
       "      <td>2</td>\n",
       "      <td>Other</td>\n",
       "      <td>4</td>\n",
       "      <td>Male</td>\n",
       "      <td>92</td>\n",
       "      <td>2</td>\n",
       "      <td>Single</td>\n",
       "      <td>...</td>\n",
       "      <td>3</td>\n",
       "      <td>0</td>\n",
       "      <td>0</td>\n",
       "      <td>0</td>\n",
       "      <td>0</td>\n",
       "      <td>Research &amp; Development</td>\n",
       "      <td>2090</td>\n",
       "      <td>15</td>\n",
       "      <td>0</td>\n",
       "      <td>2</td>\n",
       "    </tr>\n",
       "    <tr>\n",
       "      <th>3</th>\n",
       "      <td>0</td>\n",
       "      <td>32</td>\n",
       "      <td>4</td>\n",
       "      <td>2</td>\n",
       "      <td>Life Sciences</td>\n",
       "      <td>4</td>\n",
       "      <td>Male</td>\n",
       "      <td>79</td>\n",
       "      <td>3</td>\n",
       "      <td>Single</td>\n",
       "      <td>...</td>\n",
       "      <td>2</td>\n",
       "      <td>7</td>\n",
       "      <td>7</td>\n",
       "      <td>3</td>\n",
       "      <td>6</td>\n",
       "      <td>Research &amp; Development</td>\n",
       "      <td>3068</td>\n",
       "      <td>13</td>\n",
       "      <td>0</td>\n",
       "      <td>3</td>\n",
       "    </tr>\n",
       "    <tr>\n",
       "      <th>4</th>\n",
       "      <td>0</td>\n",
       "      <td>38</td>\n",
       "      <td>3</td>\n",
       "      <td>3</td>\n",
       "      <td>Life Sciences</td>\n",
       "      <td>4</td>\n",
       "      <td>Male</td>\n",
       "      <td>44</td>\n",
       "      <td>2</td>\n",
       "      <td>Single</td>\n",
       "      <td>...</td>\n",
       "      <td>3</td>\n",
       "      <td>9</td>\n",
       "      <td>7</td>\n",
       "      <td>1</td>\n",
       "      <td>8</td>\n",
       "      <td>Research &amp; Development</td>\n",
       "      <td>9526</td>\n",
       "      <td>21</td>\n",
       "      <td>0</td>\n",
       "      <td>2</td>\n",
       "    </tr>\n",
       "    <tr>\n",
       "      <th>5</th>\n",
       "      <td>0</td>\n",
       "      <td>29</td>\n",
       "      <td>3</td>\n",
       "      <td>2</td>\n",
       "      <td>Life Sciences</td>\n",
       "      <td>4</td>\n",
       "      <td>Female</td>\n",
       "      <td>49</td>\n",
       "      <td>2</td>\n",
       "      <td>Single</td>\n",
       "      <td>...</td>\n",
       "      <td>3</td>\n",
       "      <td>9</td>\n",
       "      <td>5</td>\n",
       "      <td>0</td>\n",
       "      <td>8</td>\n",
       "      <td>Research &amp; Development</td>\n",
       "      <td>4193</td>\n",
       "      <td>12</td>\n",
       "      <td>0</td>\n",
       "      <td>4</td>\n",
       "    </tr>\n",
       "  </tbody>\n",
       "</table>\n",
       "<p>5 rows × 24 columns</p>\n",
       "</div>"
      ],
      "text/plain": [
       "            Attrition_binary  Age  JobSatisfaction  Education EducationField  \\\n",
       "EmployeeID                                                                     \n",
       "1                          1   41                4          2  Life Sciences   \n",
       "2                          1   37                3          2          Other   \n",
       "3                          0   32                4          2  Life Sciences   \n",
       "4                          0   38                3          3  Life Sciences   \n",
       "5                          0   29                3          2  Life Sciences   \n",
       "\n",
       "            EnvironmentSatisfaction  Gender  HourlyRate  JobInvolvement  \\\n",
       "EmployeeID                                                                \n",
       "1                                 2  Female          94               3   \n",
       "2                                 4    Male          92               2   \n",
       "3                                 4    Male          79               3   \n",
       "4                                 4    Male          44               2   \n",
       "5                                 4  Female          49               2   \n",
       "\n",
       "           MaritalStatus  ...  WorkLifeBalance  YearsAtCompany  \\\n",
       "EmployeeID                ...                                    \n",
       "1                 Single  ...                1               6   \n",
       "2                 Single  ...                3               0   \n",
       "3                 Single  ...                2               7   \n",
       "4                 Single  ...                3               9   \n",
       "5                 Single  ...                3               9   \n",
       "\n",
       "            YearsInCurrentRole  YearsSinceLastPromotion  YearsWithCurrManager  \\\n",
       "EmployeeID                                                                      \n",
       "1                            4                        0                     5   \n",
       "2                            0                        0                     0   \n",
       "3                            7                        3                     6   \n",
       "4                            7                        1                     8   \n",
       "5                            5                        0                     8   \n",
       "\n",
       "                        Department  MonthlyIncome  PercentSalaryHike  \\\n",
       "EmployeeID                                                             \n",
       "1                            Sales           5993                 11   \n",
       "2           Research & Development           2090                 15   \n",
       "3           Research & Development           3068                 13   \n",
       "4           Research & Development           9526                 21   \n",
       "5           Research & Development           4193                 12   \n",
       "\n",
       "            children Manager_relation_satisfaction  \n",
       "EmployeeID                                          \n",
       "1                  0                             1  \n",
       "2                  0                             2  \n",
       "3                  0                             3  \n",
       "4                  0                             2  \n",
       "5                  0                             4  \n",
       "\n",
       "[5 rows x 24 columns]"
      ]
     },
     "execution_count": 2,
     "metadata": {},
     "output_type": "execute_result"
    }
   ],
   "source": [
    "# Read the CSV file from the Resources folder into a Pandas DataFrame\n",
    "data = pd.read_csv(\n",
    "    Path(\"IBM_attrition_data_set.csv\"),\n",
    "    index_col='EmployeeID', \n",
    ")\n",
    "\n",
    "# Review the DataFrame\n",
    "data.head()"
   ]
  },
  {
   "cell_type": "markdown",
   "id": "d35e5f25-519f-47b8-93ca-a419a2763edb",
   "metadata": {},
   "source": [
    "---\n",
    "\n",
    "### Data Preparation"
   ]
  },
  {
   "cell_type": "code",
   "execution_count": 3,
   "id": "9a5af567-984d-409d-8434-f421675e424f",
   "metadata": {},
   "outputs": [
    {
     "data": {
      "text/plain": [
       "Attrition_binary                  int64\n",
       "Age                               int64\n",
       "JobSatisfaction                   int64\n",
       "Education                         int64\n",
       "EducationField                   object\n",
       "EnvironmentSatisfaction           int64\n",
       "Gender                           object\n",
       "HourlyRate                        int64\n",
       "JobInvolvement                    int64\n",
       "MaritalStatus                    object\n",
       "NumCompaniesWorked                int64\n",
       "PerformanceRating                 int64\n",
       "TotalWorkingYears                 int64\n",
       "TrainingTimesLastYear             int64\n",
       "WorkLifeBalance                   int64\n",
       "YearsAtCompany                    int64\n",
       "YearsInCurrentRole                int64\n",
       "YearsSinceLastPromotion           int64\n",
       "YearsWithCurrManager              int64\n",
       "Department                       object\n",
       "MonthlyIncome                     int64\n",
       "PercentSalaryHike                 int64\n",
       "children                          int64\n",
       "Manager_relation_satisfaction     int64\n",
       "dtype: object"
      ]
     },
     "execution_count": 3,
     "metadata": {},
     "output_type": "execute_result"
    }
   ],
   "source": [
    "# Review the data types associated with the columns\n",
    "data.dtypes"
   ]
  },
  {
   "cell_type": "code",
   "execution_count": 4,
   "id": "b557431a-82c2-4f6a-983d-3365165c9f88",
   "metadata": {},
   "outputs": [
    {
     "data": {
      "text/plain": [
       "['EducationField', 'Gender', 'MaritalStatus', 'Department']"
      ]
     },
     "execution_count": 4,
     "metadata": {},
     "output_type": "execute_result"
    }
   ],
   "source": [
    "# Create a list of categorical variables \n",
    "categorical_variables = list(data.dtypes[data.dtypes == \"object\"].index)\n",
    "\n",
    "# Display the categorical variables list\n",
    "categorical_variables"
   ]
  },
  {
   "cell_type": "code",
   "execution_count": 5,
   "id": "94d1fb42-8be8-4474-b05e-8ab815a394ee",
   "metadata": {},
   "outputs": [],
   "source": [
    "# Create a OneHotEncoder instance\n",
    "enc = OneHotEncoder(sparse=False)\n",
    "\n",
    "# Encode the categorcal variables using OneHotEncoder\n",
    "encoded_data = enc.fit_transform(data[categorical_variables])"
   ]
  },
  {
   "cell_type": "code",
   "execution_count": 6,
   "id": "e0c9eaad-0db1-40f4-a3b0-d0d9942f8ea5",
   "metadata": {},
   "outputs": [
    {
     "data": {
      "text/html": [
       "<div>\n",
       "<style scoped>\n",
       "    .dataframe tbody tr th:only-of-type {\n",
       "        vertical-align: middle;\n",
       "    }\n",
       "\n",
       "    .dataframe tbody tr th {\n",
       "        vertical-align: top;\n",
       "    }\n",
       "\n",
       "    .dataframe thead th {\n",
       "        text-align: right;\n",
       "    }\n",
       "</style>\n",
       "<table border=\"1\" class=\"dataframe\">\n",
       "  <thead>\n",
       "    <tr style=\"text-align: right;\">\n",
       "      <th></th>\n",
       "      <th>EducationField_Human Resources</th>\n",
       "      <th>EducationField_Life Sciences</th>\n",
       "      <th>EducationField_Marketing</th>\n",
       "      <th>EducationField_Medical</th>\n",
       "      <th>EducationField_Other</th>\n",
       "      <th>EducationField_Technical Degree</th>\n",
       "      <th>Gender_Female</th>\n",
       "      <th>Gender_Male</th>\n",
       "      <th>MaritalStatus_Divorced</th>\n",
       "      <th>MaritalStatus_Married</th>\n",
       "      <th>MaritalStatus_Single</th>\n",
       "      <th>Department_Human Resources</th>\n",
       "      <th>Department_Research &amp; Development</th>\n",
       "      <th>Department_Sales</th>\n",
       "    </tr>\n",
       "  </thead>\n",
       "  <tbody>\n",
       "    <tr>\n",
       "      <th>0</th>\n",
       "      <td>0.0</td>\n",
       "      <td>1.0</td>\n",
       "      <td>0.0</td>\n",
       "      <td>0.0</td>\n",
       "      <td>0.0</td>\n",
       "      <td>0.0</td>\n",
       "      <td>1.0</td>\n",
       "      <td>0.0</td>\n",
       "      <td>0.0</td>\n",
       "      <td>0.0</td>\n",
       "      <td>1.0</td>\n",
       "      <td>0.0</td>\n",
       "      <td>0.0</td>\n",
       "      <td>1.0</td>\n",
       "    </tr>\n",
       "    <tr>\n",
       "      <th>1</th>\n",
       "      <td>0.0</td>\n",
       "      <td>0.0</td>\n",
       "      <td>0.0</td>\n",
       "      <td>0.0</td>\n",
       "      <td>1.0</td>\n",
       "      <td>0.0</td>\n",
       "      <td>0.0</td>\n",
       "      <td>1.0</td>\n",
       "      <td>0.0</td>\n",
       "      <td>0.0</td>\n",
       "      <td>1.0</td>\n",
       "      <td>0.0</td>\n",
       "      <td>1.0</td>\n",
       "      <td>0.0</td>\n",
       "    </tr>\n",
       "    <tr>\n",
       "      <th>2</th>\n",
       "      <td>0.0</td>\n",
       "      <td>1.0</td>\n",
       "      <td>0.0</td>\n",
       "      <td>0.0</td>\n",
       "      <td>0.0</td>\n",
       "      <td>0.0</td>\n",
       "      <td>0.0</td>\n",
       "      <td>1.0</td>\n",
       "      <td>0.0</td>\n",
       "      <td>0.0</td>\n",
       "      <td>1.0</td>\n",
       "      <td>0.0</td>\n",
       "      <td>1.0</td>\n",
       "      <td>0.0</td>\n",
       "    </tr>\n",
       "    <tr>\n",
       "      <th>3</th>\n",
       "      <td>0.0</td>\n",
       "      <td>1.0</td>\n",
       "      <td>0.0</td>\n",
       "      <td>0.0</td>\n",
       "      <td>0.0</td>\n",
       "      <td>0.0</td>\n",
       "      <td>0.0</td>\n",
       "      <td>1.0</td>\n",
       "      <td>0.0</td>\n",
       "      <td>0.0</td>\n",
       "      <td>1.0</td>\n",
       "      <td>0.0</td>\n",
       "      <td>1.0</td>\n",
       "      <td>0.0</td>\n",
       "    </tr>\n",
       "    <tr>\n",
       "      <th>4</th>\n",
       "      <td>0.0</td>\n",
       "      <td>1.0</td>\n",
       "      <td>0.0</td>\n",
       "      <td>0.0</td>\n",
       "      <td>0.0</td>\n",
       "      <td>0.0</td>\n",
       "      <td>1.0</td>\n",
       "      <td>0.0</td>\n",
       "      <td>0.0</td>\n",
       "      <td>0.0</td>\n",
       "      <td>1.0</td>\n",
       "      <td>0.0</td>\n",
       "      <td>1.0</td>\n",
       "      <td>0.0</td>\n",
       "    </tr>\n",
       "  </tbody>\n",
       "</table>\n",
       "</div>"
      ],
      "text/plain": [
       "   EducationField_Human Resources  EducationField_Life Sciences  \\\n",
       "0                             0.0                           1.0   \n",
       "1                             0.0                           0.0   \n",
       "2                             0.0                           1.0   \n",
       "3                             0.0                           1.0   \n",
       "4                             0.0                           1.0   \n",
       "\n",
       "   EducationField_Marketing  EducationField_Medical  EducationField_Other  \\\n",
       "0                       0.0                     0.0                   0.0   \n",
       "1                       0.0                     0.0                   1.0   \n",
       "2                       0.0                     0.0                   0.0   \n",
       "3                       0.0                     0.0                   0.0   \n",
       "4                       0.0                     0.0                   0.0   \n",
       "\n",
       "   EducationField_Technical Degree  Gender_Female  Gender_Male  \\\n",
       "0                              0.0            1.0          0.0   \n",
       "1                              0.0            0.0          1.0   \n",
       "2                              0.0            0.0          1.0   \n",
       "3                              0.0            0.0          1.0   \n",
       "4                              0.0            1.0          0.0   \n",
       "\n",
       "   MaritalStatus_Divorced  MaritalStatus_Married  MaritalStatus_Single  \\\n",
       "0                     0.0                    0.0                   1.0   \n",
       "1                     0.0                    0.0                   1.0   \n",
       "2                     0.0                    0.0                   1.0   \n",
       "3                     0.0                    0.0                   1.0   \n",
       "4                     0.0                    0.0                   1.0   \n",
       "\n",
       "   Department_Human Resources  Department_Research & Development  \\\n",
       "0                         0.0                                0.0   \n",
       "1                         0.0                                1.0   \n",
       "2                         0.0                                1.0   \n",
       "3                         0.0                                1.0   \n",
       "4                         0.0                                1.0   \n",
       "\n",
       "   Department_Sales  \n",
       "0               1.0  \n",
       "1               0.0  \n",
       "2               0.0  \n",
       "3               0.0  \n",
       "4               0.0  "
      ]
     },
     "execution_count": 6,
     "metadata": {},
     "output_type": "execute_result"
    }
   ],
   "source": [
    "# Create a DataFrame with the encoded variables\n",
    "encoded_df = pd.DataFrame(\n",
    "    encoded_data,\n",
    "    columns = enc.get_feature_names(categorical_variables) \n",
    ")\n",
    "\n",
    "# Review the DataFrame\n",
    "encoded_df.head()"
   ]
  },
  {
   "cell_type": "code",
   "execution_count": 7,
   "id": "aeb67baf-9946-44d4-af68-54ebe851b57b",
   "metadata": {},
   "outputs": [
    {
     "data": {
      "text/html": [
       "<div>\n",
       "<style scoped>\n",
       "    .dataframe tbody tr th:only-of-type {\n",
       "        vertical-align: middle;\n",
       "    }\n",
       "\n",
       "    .dataframe tbody tr th {\n",
       "        vertical-align: top;\n",
       "    }\n",
       "\n",
       "    .dataframe thead th {\n",
       "        text-align: right;\n",
       "    }\n",
       "</style>\n",
       "<table border=\"1\" class=\"dataframe\">\n",
       "  <thead>\n",
       "    <tr style=\"text-align: right;\">\n",
       "      <th></th>\n",
       "      <th>Attrition_binary</th>\n",
       "      <th>Age</th>\n",
       "      <th>JobSatisfaction</th>\n",
       "      <th>Education</th>\n",
       "      <th>EnvironmentSatisfaction</th>\n",
       "      <th>HourlyRate</th>\n",
       "      <th>JobInvolvement</th>\n",
       "      <th>NumCompaniesWorked</th>\n",
       "      <th>PerformanceRating</th>\n",
       "      <th>TotalWorkingYears</th>\n",
       "      <th>TrainingTimesLastYear</th>\n",
       "      <th>WorkLifeBalance</th>\n",
       "      <th>YearsAtCompany</th>\n",
       "      <th>YearsInCurrentRole</th>\n",
       "      <th>YearsSinceLastPromotion</th>\n",
       "      <th>YearsWithCurrManager</th>\n",
       "      <th>MonthlyIncome</th>\n",
       "      <th>PercentSalaryHike</th>\n",
       "      <th>children</th>\n",
       "      <th>Manager_relation_satisfaction</th>\n",
       "    </tr>\n",
       "    <tr>\n",
       "      <th>EmployeeID</th>\n",
       "      <th></th>\n",
       "      <th></th>\n",
       "      <th></th>\n",
       "      <th></th>\n",
       "      <th></th>\n",
       "      <th></th>\n",
       "      <th></th>\n",
       "      <th></th>\n",
       "      <th></th>\n",
       "      <th></th>\n",
       "      <th></th>\n",
       "      <th></th>\n",
       "      <th></th>\n",
       "      <th></th>\n",
       "      <th></th>\n",
       "      <th></th>\n",
       "      <th></th>\n",
       "      <th></th>\n",
       "      <th></th>\n",
       "      <th></th>\n",
       "    </tr>\n",
       "  </thead>\n",
       "  <tbody>\n",
       "    <tr>\n",
       "      <th>1</th>\n",
       "      <td>1</td>\n",
       "      <td>41</td>\n",
       "      <td>4</td>\n",
       "      <td>2</td>\n",
       "      <td>2</td>\n",
       "      <td>94</td>\n",
       "      <td>3</td>\n",
       "      <td>8</td>\n",
       "      <td>3</td>\n",
       "      <td>8</td>\n",
       "      <td>0</td>\n",
       "      <td>1</td>\n",
       "      <td>6</td>\n",
       "      <td>4</td>\n",
       "      <td>0</td>\n",
       "      <td>5</td>\n",
       "      <td>5993</td>\n",
       "      <td>11</td>\n",
       "      <td>0</td>\n",
       "      <td>1</td>\n",
       "    </tr>\n",
       "    <tr>\n",
       "      <th>2</th>\n",
       "      <td>1</td>\n",
       "      <td>37</td>\n",
       "      <td>3</td>\n",
       "      <td>2</td>\n",
       "      <td>4</td>\n",
       "      <td>92</td>\n",
       "      <td>2</td>\n",
       "      <td>6</td>\n",
       "      <td>3</td>\n",
       "      <td>7</td>\n",
       "      <td>3</td>\n",
       "      <td>3</td>\n",
       "      <td>0</td>\n",
       "      <td>0</td>\n",
       "      <td>0</td>\n",
       "      <td>0</td>\n",
       "      <td>2090</td>\n",
       "      <td>15</td>\n",
       "      <td>0</td>\n",
       "      <td>2</td>\n",
       "    </tr>\n",
       "    <tr>\n",
       "      <th>3</th>\n",
       "      <td>0</td>\n",
       "      <td>32</td>\n",
       "      <td>4</td>\n",
       "      <td>2</td>\n",
       "      <td>4</td>\n",
       "      <td>79</td>\n",
       "      <td>3</td>\n",
       "      <td>0</td>\n",
       "      <td>3</td>\n",
       "      <td>8</td>\n",
       "      <td>2</td>\n",
       "      <td>2</td>\n",
       "      <td>7</td>\n",
       "      <td>7</td>\n",
       "      <td>3</td>\n",
       "      <td>6</td>\n",
       "      <td>3068</td>\n",
       "      <td>13</td>\n",
       "      <td>0</td>\n",
       "      <td>3</td>\n",
       "    </tr>\n",
       "    <tr>\n",
       "      <th>4</th>\n",
       "      <td>0</td>\n",
       "      <td>38</td>\n",
       "      <td>3</td>\n",
       "      <td>3</td>\n",
       "      <td>4</td>\n",
       "      <td>44</td>\n",
       "      <td>2</td>\n",
       "      <td>0</td>\n",
       "      <td>4</td>\n",
       "      <td>10</td>\n",
       "      <td>2</td>\n",
       "      <td>3</td>\n",
       "      <td>9</td>\n",
       "      <td>7</td>\n",
       "      <td>1</td>\n",
       "      <td>8</td>\n",
       "      <td>9526</td>\n",
       "      <td>21</td>\n",
       "      <td>0</td>\n",
       "      <td>2</td>\n",
       "    </tr>\n",
       "    <tr>\n",
       "      <th>5</th>\n",
       "      <td>0</td>\n",
       "      <td>29</td>\n",
       "      <td>3</td>\n",
       "      <td>2</td>\n",
       "      <td>4</td>\n",
       "      <td>49</td>\n",
       "      <td>2</td>\n",
       "      <td>0</td>\n",
       "      <td>3</td>\n",
       "      <td>10</td>\n",
       "      <td>3</td>\n",
       "      <td>3</td>\n",
       "      <td>9</td>\n",
       "      <td>5</td>\n",
       "      <td>0</td>\n",
       "      <td>8</td>\n",
       "      <td>4193</td>\n",
       "      <td>12</td>\n",
       "      <td>0</td>\n",
       "      <td>4</td>\n",
       "    </tr>\n",
       "  </tbody>\n",
       "</table>\n",
       "</div>"
      ],
      "text/plain": [
       "            Attrition_binary  Age  JobSatisfaction  Education  \\\n",
       "EmployeeID                                                      \n",
       "1                          1   41                4          2   \n",
       "2                          1   37                3          2   \n",
       "3                          0   32                4          2   \n",
       "4                          0   38                3          3   \n",
       "5                          0   29                3          2   \n",
       "\n",
       "            EnvironmentSatisfaction  HourlyRate  JobInvolvement  \\\n",
       "EmployeeID                                                        \n",
       "1                                 2          94               3   \n",
       "2                                 4          92               2   \n",
       "3                                 4          79               3   \n",
       "4                                 4          44               2   \n",
       "5                                 4          49               2   \n",
       "\n",
       "            NumCompaniesWorked  PerformanceRating  TotalWorkingYears  \\\n",
       "EmployeeID                                                             \n",
       "1                            8                  3                  8   \n",
       "2                            6                  3                  7   \n",
       "3                            0                  3                  8   \n",
       "4                            0                  4                 10   \n",
       "5                            0                  3                 10   \n",
       "\n",
       "            TrainingTimesLastYear  WorkLifeBalance  YearsAtCompany  \\\n",
       "EmployeeID                                                           \n",
       "1                               0                1               6   \n",
       "2                               3                3               0   \n",
       "3                               2                2               7   \n",
       "4                               2                3               9   \n",
       "5                               3                3               9   \n",
       "\n",
       "            YearsInCurrentRole  YearsSinceLastPromotion  YearsWithCurrManager  \\\n",
       "EmployeeID                                                                      \n",
       "1                            4                        0                     5   \n",
       "2                            0                        0                     0   \n",
       "3                            7                        3                     6   \n",
       "4                            7                        1                     8   \n",
       "5                            5                        0                     8   \n",
       "\n",
       "            MonthlyIncome  PercentSalaryHike  children  \\\n",
       "EmployeeID                                               \n",
       "1                    5993                 11         0   \n",
       "2                    2090                 15         0   \n",
       "3                    3068                 13         0   \n",
       "4                    9526                 21         0   \n",
       "5                    4193                 12         0   \n",
       "\n",
       "            Manager_relation_satisfaction  \n",
       "EmployeeID                                 \n",
       "1                                       1  \n",
       "2                                       2  \n",
       "3                                       3  \n",
       "4                                       2  \n",
       "5                                       4  "
      ]
     },
     "execution_count": 7,
     "metadata": {},
     "output_type": "execute_result"
    }
   ],
   "source": [
    "# Create a DataFrame with the columnns containing numerical variables from the original dataset\n",
    "numerical_variables_df = data.drop(columns = categorical_variables)\n",
    "\n",
    "# Review the DataFrame\n",
    "numerical_variables_df.head()"
   ]
  },
  {
   "cell_type": "code",
   "execution_count": 8,
   "id": "34074a83-78e8-4197-ad09-dbd76f74a41e",
   "metadata": {},
   "outputs": [
    {
     "data": {
      "text/html": [
       "<div>\n",
       "<style scoped>\n",
       "    .dataframe tbody tr th:only-of-type {\n",
       "        vertical-align: middle;\n",
       "    }\n",
       "\n",
       "    .dataframe tbody tr th {\n",
       "        vertical-align: top;\n",
       "    }\n",
       "\n",
       "    .dataframe thead th {\n",
       "        text-align: right;\n",
       "    }\n",
       "</style>\n",
       "<table border=\"1\" class=\"dataframe\">\n",
       "  <thead>\n",
       "    <tr style=\"text-align: right;\">\n",
       "      <th></th>\n",
       "      <th>Attrition_binary</th>\n",
       "      <th>Age</th>\n",
       "      <th>JobSatisfaction</th>\n",
       "      <th>Education</th>\n",
       "      <th>EnvironmentSatisfaction</th>\n",
       "      <th>HourlyRate</th>\n",
       "      <th>JobInvolvement</th>\n",
       "      <th>NumCompaniesWorked</th>\n",
       "      <th>PerformanceRating</th>\n",
       "      <th>TotalWorkingYears</th>\n",
       "      <th>...</th>\n",
       "      <th>EducationField_Other</th>\n",
       "      <th>EducationField_Technical Degree</th>\n",
       "      <th>Gender_Female</th>\n",
       "      <th>Gender_Male</th>\n",
       "      <th>MaritalStatus_Divorced</th>\n",
       "      <th>MaritalStatus_Married</th>\n",
       "      <th>MaritalStatus_Single</th>\n",
       "      <th>Department_Human Resources</th>\n",
       "      <th>Department_Research &amp; Development</th>\n",
       "      <th>Department_Sales</th>\n",
       "    </tr>\n",
       "  </thead>\n",
       "  <tbody>\n",
       "    <tr>\n",
       "      <th>1</th>\n",
       "      <td>1.0</td>\n",
       "      <td>41.0</td>\n",
       "      <td>4.0</td>\n",
       "      <td>2.0</td>\n",
       "      <td>2.0</td>\n",
       "      <td>94.0</td>\n",
       "      <td>3.0</td>\n",
       "      <td>8.0</td>\n",
       "      <td>3.0</td>\n",
       "      <td>8.0</td>\n",
       "      <td>...</td>\n",
       "      <td>1.0</td>\n",
       "      <td>0.0</td>\n",
       "      <td>0.0</td>\n",
       "      <td>1.0</td>\n",
       "      <td>0.0</td>\n",
       "      <td>0.0</td>\n",
       "      <td>1.0</td>\n",
       "      <td>0.0</td>\n",
       "      <td>1.0</td>\n",
       "      <td>0.0</td>\n",
       "    </tr>\n",
       "    <tr>\n",
       "      <th>2</th>\n",
       "      <td>1.0</td>\n",
       "      <td>37.0</td>\n",
       "      <td>3.0</td>\n",
       "      <td>2.0</td>\n",
       "      <td>4.0</td>\n",
       "      <td>92.0</td>\n",
       "      <td>2.0</td>\n",
       "      <td>6.0</td>\n",
       "      <td>3.0</td>\n",
       "      <td>7.0</td>\n",
       "      <td>...</td>\n",
       "      <td>0.0</td>\n",
       "      <td>0.0</td>\n",
       "      <td>0.0</td>\n",
       "      <td>1.0</td>\n",
       "      <td>0.0</td>\n",
       "      <td>0.0</td>\n",
       "      <td>1.0</td>\n",
       "      <td>0.0</td>\n",
       "      <td>1.0</td>\n",
       "      <td>0.0</td>\n",
       "    </tr>\n",
       "    <tr>\n",
       "      <th>3</th>\n",
       "      <td>0.0</td>\n",
       "      <td>32.0</td>\n",
       "      <td>4.0</td>\n",
       "      <td>2.0</td>\n",
       "      <td>4.0</td>\n",
       "      <td>79.0</td>\n",
       "      <td>3.0</td>\n",
       "      <td>0.0</td>\n",
       "      <td>3.0</td>\n",
       "      <td>8.0</td>\n",
       "      <td>...</td>\n",
       "      <td>0.0</td>\n",
       "      <td>0.0</td>\n",
       "      <td>0.0</td>\n",
       "      <td>1.0</td>\n",
       "      <td>0.0</td>\n",
       "      <td>0.0</td>\n",
       "      <td>1.0</td>\n",
       "      <td>0.0</td>\n",
       "      <td>1.0</td>\n",
       "      <td>0.0</td>\n",
       "    </tr>\n",
       "    <tr>\n",
       "      <th>4</th>\n",
       "      <td>0.0</td>\n",
       "      <td>38.0</td>\n",
       "      <td>3.0</td>\n",
       "      <td>3.0</td>\n",
       "      <td>4.0</td>\n",
       "      <td>44.0</td>\n",
       "      <td>2.0</td>\n",
       "      <td>0.0</td>\n",
       "      <td>4.0</td>\n",
       "      <td>10.0</td>\n",
       "      <td>...</td>\n",
       "      <td>0.0</td>\n",
       "      <td>0.0</td>\n",
       "      <td>1.0</td>\n",
       "      <td>0.0</td>\n",
       "      <td>0.0</td>\n",
       "      <td>0.0</td>\n",
       "      <td>1.0</td>\n",
       "      <td>0.0</td>\n",
       "      <td>1.0</td>\n",
       "      <td>0.0</td>\n",
       "    </tr>\n",
       "    <tr>\n",
       "      <th>5</th>\n",
       "      <td>0.0</td>\n",
       "      <td>29.0</td>\n",
       "      <td>3.0</td>\n",
       "      <td>2.0</td>\n",
       "      <td>4.0</td>\n",
       "      <td>49.0</td>\n",
       "      <td>2.0</td>\n",
       "      <td>0.0</td>\n",
       "      <td>3.0</td>\n",
       "      <td>10.0</td>\n",
       "      <td>...</td>\n",
       "      <td>0.0</td>\n",
       "      <td>0.0</td>\n",
       "      <td>0.0</td>\n",
       "      <td>1.0</td>\n",
       "      <td>0.0</td>\n",
       "      <td>0.0</td>\n",
       "      <td>1.0</td>\n",
       "      <td>0.0</td>\n",
       "      <td>1.0</td>\n",
       "      <td>0.0</td>\n",
       "    </tr>\n",
       "    <tr>\n",
       "      <th>...</th>\n",
       "      <td>...</td>\n",
       "      <td>...</td>\n",
       "      <td>...</td>\n",
       "      <td>...</td>\n",
       "      <td>...</td>\n",
       "      <td>...</td>\n",
       "      <td>...</td>\n",
       "      <td>...</td>\n",
       "      <td>...</td>\n",
       "      <td>...</td>\n",
       "      <td>...</td>\n",
       "      <td>...</td>\n",
       "      <td>...</td>\n",
       "      <td>...</td>\n",
       "      <td>...</td>\n",
       "      <td>...</td>\n",
       "      <td>...</td>\n",
       "      <td>...</td>\n",
       "      <td>...</td>\n",
       "      <td>...</td>\n",
       "      <td>...</td>\n",
       "    </tr>\n",
       "    <tr>\n",
       "      <th>1465</th>\n",
       "      <td>0.0</td>\n",
       "      <td>39.0</td>\n",
       "      <td>4.0</td>\n",
       "      <td>1.0</td>\n",
       "      <td>2.0</td>\n",
       "      <td>60.0</td>\n",
       "      <td>2.0</td>\n",
       "      <td>0.0</td>\n",
       "      <td>3.0</td>\n",
       "      <td>21.0</td>\n",
       "      <td>...</td>\n",
       "      <td>0.0</td>\n",
       "      <td>0.0</td>\n",
       "      <td>0.0</td>\n",
       "      <td>1.0</td>\n",
       "      <td>0.0</td>\n",
       "      <td>1.0</td>\n",
       "      <td>0.0</td>\n",
       "      <td>0.0</td>\n",
       "      <td>1.0</td>\n",
       "      <td>0.0</td>\n",
       "    </tr>\n",
       "    <tr>\n",
       "      <th>1466</th>\n",
       "      <td>0.0</td>\n",
       "      <td>36.0</td>\n",
       "      <td>4.0</td>\n",
       "      <td>2.0</td>\n",
       "      <td>3.0</td>\n",
       "      <td>41.0</td>\n",
       "      <td>4.0</td>\n",
       "      <td>4.0</td>\n",
       "      <td>3.0</td>\n",
       "      <td>17.0</td>\n",
       "      <td>...</td>\n",
       "      <td>0.0</td>\n",
       "      <td>0.0</td>\n",
       "      <td>0.0</td>\n",
       "      <td>1.0</td>\n",
       "      <td>0.0</td>\n",
       "      <td>1.0</td>\n",
       "      <td>0.0</td>\n",
       "      <td>0.0</td>\n",
       "      <td>1.0</td>\n",
       "      <td>0.0</td>\n",
       "    </tr>\n",
       "    <tr>\n",
       "      <th>1467</th>\n",
       "      <td>0.0</td>\n",
       "      <td>39.0</td>\n",
       "      <td>1.0</td>\n",
       "      <td>1.0</td>\n",
       "      <td>4.0</td>\n",
       "      <td>42.0</td>\n",
       "      <td>2.0</td>\n",
       "      <td>4.0</td>\n",
       "      <td>3.0</td>\n",
       "      <td>9.0</td>\n",
       "      <td>...</td>\n",
       "      <td>0.0</td>\n",
       "      <td>0.0</td>\n",
       "      <td>0.0</td>\n",
       "      <td>1.0</td>\n",
       "      <td>0.0</td>\n",
       "      <td>1.0</td>\n",
       "      <td>0.0</td>\n",
       "      <td>0.0</td>\n",
       "      <td>1.0</td>\n",
       "      <td>0.0</td>\n",
       "    </tr>\n",
       "    <tr>\n",
       "      <th>1468</th>\n",
       "      <td>0.0</td>\n",
       "      <td>27.0</td>\n",
       "      <td>2.0</td>\n",
       "      <td>3.0</td>\n",
       "      <td>2.0</td>\n",
       "      <td>87.0</td>\n",
       "      <td>4.0</td>\n",
       "      <td>1.0</td>\n",
       "      <td>4.0</td>\n",
       "      <td>6.0</td>\n",
       "      <td>...</td>\n",
       "      <td>0.0</td>\n",
       "      <td>0.0</td>\n",
       "      <td>0.0</td>\n",
       "      <td>1.0</td>\n",
       "      <td>0.0</td>\n",
       "      <td>1.0</td>\n",
       "      <td>0.0</td>\n",
       "      <td>0.0</td>\n",
       "      <td>0.0</td>\n",
       "      <td>1.0</td>\n",
       "    </tr>\n",
       "    <tr>\n",
       "      <th>1469</th>\n",
       "      <td>0.0</td>\n",
       "      <td>49.0</td>\n",
       "      <td>2.0</td>\n",
       "      <td>3.0</td>\n",
       "      <td>4.0</td>\n",
       "      <td>63.0</td>\n",
       "      <td>2.0</td>\n",
       "      <td>2.0</td>\n",
       "      <td>3.0</td>\n",
       "      <td>17.0</td>\n",
       "      <td>...</td>\n",
       "      <td>0.0</td>\n",
       "      <td>0.0</td>\n",
       "      <td>0.0</td>\n",
       "      <td>1.0</td>\n",
       "      <td>0.0</td>\n",
       "      <td>1.0</td>\n",
       "      <td>0.0</td>\n",
       "      <td>0.0</td>\n",
       "      <td>1.0</td>\n",
       "      <td>0.0</td>\n",
       "    </tr>\n",
       "  </tbody>\n",
       "</table>\n",
       "<p>1469 rows × 34 columns</p>\n",
       "</div>"
      ],
      "text/plain": [
       "      Attrition_binary   Age  JobSatisfaction  Education  \\\n",
       "1                  1.0  41.0              4.0        2.0   \n",
       "2                  1.0  37.0              3.0        2.0   \n",
       "3                  0.0  32.0              4.0        2.0   \n",
       "4                  0.0  38.0              3.0        3.0   \n",
       "5                  0.0  29.0              3.0        2.0   \n",
       "...                ...   ...              ...        ...   \n",
       "1465               0.0  39.0              4.0        1.0   \n",
       "1466               0.0  36.0              4.0        2.0   \n",
       "1467               0.0  39.0              1.0        1.0   \n",
       "1468               0.0  27.0              2.0        3.0   \n",
       "1469               0.0  49.0              2.0        3.0   \n",
       "\n",
       "      EnvironmentSatisfaction  HourlyRate  JobInvolvement  NumCompaniesWorked  \\\n",
       "1                         2.0        94.0             3.0                 8.0   \n",
       "2                         4.0        92.0             2.0                 6.0   \n",
       "3                         4.0        79.0             3.0                 0.0   \n",
       "4                         4.0        44.0             2.0                 0.0   \n",
       "5                         4.0        49.0             2.0                 0.0   \n",
       "...                       ...         ...             ...                 ...   \n",
       "1465                      2.0        60.0             2.0                 0.0   \n",
       "1466                      3.0        41.0             4.0                 4.0   \n",
       "1467                      4.0        42.0             2.0                 4.0   \n",
       "1468                      2.0        87.0             4.0                 1.0   \n",
       "1469                      4.0        63.0             2.0                 2.0   \n",
       "\n",
       "      PerformanceRating  TotalWorkingYears  ...  EducationField_Other  \\\n",
       "1                   3.0                8.0  ...                   1.0   \n",
       "2                   3.0                7.0  ...                   0.0   \n",
       "3                   3.0                8.0  ...                   0.0   \n",
       "4                   4.0               10.0  ...                   0.0   \n",
       "5                   3.0               10.0  ...                   0.0   \n",
       "...                 ...                ...  ...                   ...   \n",
       "1465                3.0               21.0  ...                   0.0   \n",
       "1466                3.0               17.0  ...                   0.0   \n",
       "1467                3.0                9.0  ...                   0.0   \n",
       "1468                4.0                6.0  ...                   0.0   \n",
       "1469                3.0               17.0  ...                   0.0   \n",
       "\n",
       "      EducationField_Technical Degree  Gender_Female  Gender_Male  \\\n",
       "1                                 0.0            0.0          1.0   \n",
       "2                                 0.0            0.0          1.0   \n",
       "3                                 0.0            0.0          1.0   \n",
       "4                                 0.0            1.0          0.0   \n",
       "5                                 0.0            0.0          1.0   \n",
       "...                               ...            ...          ...   \n",
       "1465                              0.0            0.0          1.0   \n",
       "1466                              0.0            0.0          1.0   \n",
       "1467                              0.0            0.0          1.0   \n",
       "1468                              0.0            0.0          1.0   \n",
       "1469                              0.0            0.0          1.0   \n",
       "\n",
       "      MaritalStatus_Divorced  MaritalStatus_Married  MaritalStatus_Single  \\\n",
       "1                        0.0                    0.0                   1.0   \n",
       "2                        0.0                    0.0                   1.0   \n",
       "3                        0.0                    0.0                   1.0   \n",
       "4                        0.0                    0.0                   1.0   \n",
       "5                        0.0                    0.0                   1.0   \n",
       "...                      ...                    ...                   ...   \n",
       "1465                     0.0                    1.0                   0.0   \n",
       "1466                     0.0                    1.0                   0.0   \n",
       "1467                     0.0                    1.0                   0.0   \n",
       "1468                     0.0                    1.0                   0.0   \n",
       "1469                     0.0                    1.0                   0.0   \n",
       "\n",
       "      Department_Human Resources  Department_Research & Development  \\\n",
       "1                            0.0                                1.0   \n",
       "2                            0.0                                1.0   \n",
       "3                            0.0                                1.0   \n",
       "4                            0.0                                1.0   \n",
       "5                            0.0                                1.0   \n",
       "...                          ...                                ...   \n",
       "1465                         0.0                                1.0   \n",
       "1466                         0.0                                1.0   \n",
       "1467                         0.0                                1.0   \n",
       "1468                         0.0                                0.0   \n",
       "1469                         0.0                                1.0   \n",
       "\n",
       "      Department_Sales  \n",
       "1                  0.0  \n",
       "2                  0.0  \n",
       "3                  0.0  \n",
       "4                  0.0  \n",
       "5                  0.0  \n",
       "...                ...  \n",
       "1465               0.0  \n",
       "1466               0.0  \n",
       "1467               0.0  \n",
       "1468               1.0  \n",
       "1469               0.0  \n",
       "\n",
       "[1469 rows x 34 columns]"
      ]
     },
     "execution_count": 8,
     "metadata": {},
     "output_type": "execute_result"
    }
   ],
   "source": [
    "# Add the numerical variables from the original DataFrame to the one-hot encoding DataFrame\n",
    "combined_data = pd.concat(\n",
    "    [\n",
    "        numerical_variables_df, \n",
    "        encoded_df\n",
    "    ],\n",
    "    axis=1 )\n",
    "\n",
    "# Drop NaN value in the Dataframe\n",
    "clean_data = combined_data.dropna()\n",
    "\n",
    "# Display the data\n",
    "clean_data"
   ]
  },
  {
   "cell_type": "code",
   "execution_count": 9,
   "id": "18d8fa33-0b75-4b28-b49f-5c20f8e4a540",
   "metadata": {},
   "outputs": [],
   "source": [
    "# Convert Monthly Income into per 1000\n",
    "\n",
    "clean_data['MonthlyIncome'] = clean_data['MonthlyIncome']/1000"
   ]
  },
  {
   "cell_type": "code",
   "execution_count": 10,
   "id": "5556a0ba-e3d4-4d82-b7e7-544bcc395bef",
   "metadata": {},
   "outputs": [],
   "source": [
    "# Separate the data into labels and features\n",
    "\n",
    "# Separate the y variable, the labels\n",
    "y = clean_data[\"Attrition_binary\"]\n",
    "\n",
    "# Separate the X variable, the features\n",
    "X = clean_data.drop(columns=\"Attrition_binary\")"
   ]
  },
  {
   "cell_type": "code",
   "execution_count": 11,
   "id": "d930b14e-e7a4-47d3-90a7-da2df84c2a71",
   "metadata": {},
   "outputs": [
    {
     "data": {
      "text/plain": [
       "0.0    1232\n",
       "1.0     237\n",
       "Name: Attrition_binary, dtype: int64"
      ]
     },
     "execution_count": 11,
     "metadata": {},
     "output_type": "execute_result"
    }
   ],
   "source": [
    "# Check the balance of our target values\n",
    "y.value_counts()"
   ]
  },
  {
   "cell_type": "code",
   "execution_count": 12,
   "id": "d18ac87d-3a31-424b-8cdf-112daea0cbb5",
   "metadata": {},
   "outputs": [
    {
     "name": "stdout",
     "output_type": "stream",
     "text": [
      "Attrition out of 1469 = 237, which is equivalent to 16.1%.\n"
     ]
    }
   ],
   "source": [
    "print(f\"Attrition out of {1232+237} = {237}, which is equivalent to {round(237/(1232+237)*100,1)}%.\")"
   ]
  },
  {
   "cell_type": "markdown",
   "id": "21142137-c6a0-469c-a3f0-8c62698efc00",
   "metadata": {},
   "source": [
    "---\n",
    "\n",
    "### Create a Logistic Regression Model"
   ]
  },
  {
   "cell_type": "code",
   "execution_count": 13,
   "id": "40709a15-d8d4-4cd8-b412-fef190bdad3b",
   "metadata": {},
   "outputs": [],
   "source": [
    "# Import the train_test_learn module\n",
    "from sklearn.model_selection import train_test_split\n",
    "\n",
    "# Split the data using train_test_split\n",
    "# Assign a random_state of 1 to the function\n",
    "X_train, X_test, y_train, y_test = train_test_split(X, y, random_state=1)"
   ]
  },
  {
   "cell_type": "code",
   "execution_count": 14,
   "id": "31726f0e-3ba2-457a-b31f-a55f468f80b8",
   "metadata": {},
   "outputs": [
    {
     "data": {
      "text/plain": [
       "LogisticRegression(random_state=1)"
      ]
     },
     "execution_count": 14,
     "metadata": {},
     "output_type": "execute_result"
    }
   ],
   "source": [
    "# Import the LogisticRegression module from SKLearn\n",
    "from sklearn.linear_model import LogisticRegression\n",
    "\n",
    "# Instantiate the Logistic Regression model\n",
    "# Assign a random_state parameter of 1 to the model\n",
    "lr_model = LogisticRegression(random_state=1)\n",
    "\n",
    "# Fit the model using training data\n",
    "lr_model.fit(X_train, y_train)"
   ]
  },
  {
   "cell_type": "code",
   "execution_count": 15,
   "id": "22589783-dfea-4ebd-8c1a-eb082433d5ec",
   "metadata": {},
   "outputs": [],
   "source": [
    "# Make a prediction using the testing data\n",
    "testing_predictions = lr_model.predict(X_test)"
   ]
  },
  {
   "cell_type": "code",
   "execution_count": 16,
   "id": "07cc4419-7e34-4cab-b2e6-372558e93a26",
   "metadata": {},
   "outputs": [
    {
     "data": {
      "text/plain": [
       "0.578556263269639"
      ]
     },
     "execution_count": 16,
     "metadata": {},
     "output_type": "execute_result"
    }
   ],
   "source": [
    "# Print the balanced_accuracy score of the model\n",
    "balanced_accuracy_score(y_test, testing_predictions)"
   ]
  },
  {
   "cell_type": "markdown",
   "id": "857e7481-e403-4b79-ad86-8b089439d6de",
   "metadata": {},
   "source": [
    "**A Confusion Matrix**"
   ]
  },
  {
   "cell_type": "code",
   "execution_count": 17,
   "id": "3b44b796-99d2-4a76-accc-7bfeb1a3e36d",
   "metadata": {},
   "outputs": [
    {
     "name": "stdout",
     "output_type": "stream",
     "text": [
      "[[311   3]\n",
      " [ 45   9]]\n"
     ]
    }
   ],
   "source": [
    "# Generate a confusion matrix for the model\n",
    "print(confusion_matrix(y_test, testing_predictions))"
   ]
  },
  {
   "cell_type": "markdown",
   "id": "d03647b6-7817-4ee3-a1ff-248dc1f83d93",
   "metadata": {},
   "source": [
    "**A Classification Report**"
   ]
  },
  {
   "cell_type": "code",
   "execution_count": 18,
   "id": "1c75c09a-b7ac-4b3b-8db6-e88ff600edb4",
   "metadata": {},
   "outputs": [
    {
     "name": "stdout",
     "output_type": "stream",
     "text": [
      "                   pre       rec       spe        f1       geo       iba       sup\n",
      "\n",
      "        0.0       0.87      0.99      0.17      0.93      0.41      0.18       314\n",
      "        1.0       0.75      0.17      0.99      0.27      0.41      0.15        54\n",
      "\n",
      "avg / total       0.86      0.87      0.29      0.83      0.41      0.17       368\n",
      "\n"
     ]
    }
   ],
   "source": [
    "# Print the classification report for the model\n",
    "print(classification_report_imbalanced(y_test, testing_predictions))"
   ]
  },
  {
   "cell_type": "markdown",
   "id": "ceabd982-cdd9-42b2-ac56-64025fbde1ae",
   "metadata": {},
   "source": [
    "---\n",
    "#### Calculating odds ratios"
   ]
  },
  {
   "cell_type": "code",
   "execution_count": 19,
   "id": "731033f3-50a2-4482-b4b0-52a96121b72e",
   "metadata": {},
   "outputs": [
    {
     "name": "stdout",
     "output_type": "stream",
     "text": [
      "Optimization terminated successfully.\n",
      "         Current function value: 0.363699\n",
      "         Iterations 7\n"
     ]
    }
   ],
   "source": [
    "result_logit_model = mba263.logit(y, X)"
   ]
  },
  {
   "cell_type": "code",
   "execution_count": 20,
   "id": "a6f0a80c-46aa-43fb-b326-ee94e5ab81b9",
   "metadata": {},
   "outputs": [],
   "source": [
    "clean_data['predicted_logit_model'] = result_logit_model.predict()"
   ]
  },
  {
   "cell_type": "code",
   "execution_count": 21,
   "id": "f6c7d20f-9873-44e7-8b62-db7bfc7a35bd",
   "metadata": {},
   "outputs": [
    {
     "data": {
      "text/plain": [
       "1    0.487279\n",
       "2    0.387083\n",
       "3    0.089036\n",
       "4    0.060051\n",
       "5    0.074857\n",
       "Name: predicted_logit_model, dtype: float64"
      ]
     },
     "execution_count": 21,
     "metadata": {},
     "output_type": "execute_result"
    }
   ],
   "source": [
    "clean_data['predicted_logit_model'].head()"
   ]
  },
  {
   "cell_type": "code",
   "execution_count": 56,
   "id": "a92ebc9a-9c73-4c58-924b-ee06db286c83",
   "metadata": {},
   "outputs": [],
   "source": [
    "# result_logit_model.summary()"
   ]
  },
  {
   "cell_type": "code",
   "execution_count": 57,
   "id": "64e58ef1-8142-4a6c-a665-4f71c85ca700",
   "metadata": {},
   "outputs": [],
   "source": [
    "# mba263.odds_ratios(result_logit_model)"
   ]
  },
  {
   "cell_type": "markdown",
   "id": "cdc54c80-c60f-4faf-b924-dea2b1b01353",
   "metadata": {},
   "source": [
    "### Odds Ratios Output from R\n",
    "#### The odds ratios below are the output created by Professor Guilbeault"
   ]
  },
  {
   "cell_type": "markdown",
   "id": "c0300e44-7b5f-42d5-a770-ca11eca44ff7",
   "metadata": {},
   "source": [
    "!['Odds Ratio Output'](IBM_odds_ratios_output.png)"
   ]
  },
  {
   "cell_type": "markdown",
   "id": "a94b1a66-fdc0-4c4b-9066-65fb0413e650",
   "metadata": {},
   "source": [
    "---\n",
    "\n",
    "#### Are there gender differences in the likelihood of attrition (or in employee job satisfaction)?"
   ]
  },
  {
   "cell_type": "code",
   "execution_count": 24,
   "id": "2a338f4c-0cdc-4ab5-805c-670865aa0384",
   "metadata": {},
   "outputs": [
    {
     "data": {
      "text/html": [
       "<div>\n",
       "<style scoped>\n",
       "    .dataframe tbody tr th:only-of-type {\n",
       "        vertical-align: middle;\n",
       "    }\n",
       "\n",
       "    .dataframe tbody tr th {\n",
       "        vertical-align: top;\n",
       "    }\n",
       "\n",
       "    .dataframe thead th {\n",
       "        text-align: right;\n",
       "    }\n",
       "</style>\n",
       "<table border=\"1\" class=\"dataframe\">\n",
       "  <thead>\n",
       "    <tr style=\"text-align: right;\">\n",
       "      <th></th>\n",
       "      <th>Attrition_binary</th>\n",
       "      <th>Age</th>\n",
       "      <th>JobSatisfaction</th>\n",
       "      <th>Education</th>\n",
       "      <th>EducationField</th>\n",
       "      <th>EnvironmentSatisfaction</th>\n",
       "      <th>HourlyRate</th>\n",
       "      <th>JobInvolvement</th>\n",
       "      <th>MaritalStatus</th>\n",
       "      <th>NumCompaniesWorked</th>\n",
       "      <th>...</th>\n",
       "      <th>YearsAtCompany</th>\n",
       "      <th>YearsInCurrentRole</th>\n",
       "      <th>YearsSinceLastPromotion</th>\n",
       "      <th>YearsWithCurrManager</th>\n",
       "      <th>Department</th>\n",
       "      <th>MonthlyIncome</th>\n",
       "      <th>PercentSalaryHike</th>\n",
       "      <th>children</th>\n",
       "      <th>Manager_relation_satisfaction</th>\n",
       "      <th>Gender_Male</th>\n",
       "    </tr>\n",
       "    <tr>\n",
       "      <th>EmployeeID</th>\n",
       "      <th></th>\n",
       "      <th></th>\n",
       "      <th></th>\n",
       "      <th></th>\n",
       "      <th></th>\n",
       "      <th></th>\n",
       "      <th></th>\n",
       "      <th></th>\n",
       "      <th></th>\n",
       "      <th></th>\n",
       "      <th></th>\n",
       "      <th></th>\n",
       "      <th></th>\n",
       "      <th></th>\n",
       "      <th></th>\n",
       "      <th></th>\n",
       "      <th></th>\n",
       "      <th></th>\n",
       "      <th></th>\n",
       "      <th></th>\n",
       "      <th></th>\n",
       "    </tr>\n",
       "  </thead>\n",
       "  <tbody>\n",
       "    <tr>\n",
       "      <th>1</th>\n",
       "      <td>1</td>\n",
       "      <td>41</td>\n",
       "      <td>4</td>\n",
       "      <td>2</td>\n",
       "      <td>Life Sciences</td>\n",
       "      <td>2</td>\n",
       "      <td>94</td>\n",
       "      <td>3</td>\n",
       "      <td>Single</td>\n",
       "      <td>8</td>\n",
       "      <td>...</td>\n",
       "      <td>6</td>\n",
       "      <td>4</td>\n",
       "      <td>0</td>\n",
       "      <td>5</td>\n",
       "      <td>Sales</td>\n",
       "      <td>5993</td>\n",
       "      <td>11</td>\n",
       "      <td>0</td>\n",
       "      <td>1</td>\n",
       "      <td>0</td>\n",
       "    </tr>\n",
       "    <tr>\n",
       "      <th>2</th>\n",
       "      <td>1</td>\n",
       "      <td>37</td>\n",
       "      <td>3</td>\n",
       "      <td>2</td>\n",
       "      <td>Other</td>\n",
       "      <td>4</td>\n",
       "      <td>92</td>\n",
       "      <td>2</td>\n",
       "      <td>Single</td>\n",
       "      <td>6</td>\n",
       "      <td>...</td>\n",
       "      <td>0</td>\n",
       "      <td>0</td>\n",
       "      <td>0</td>\n",
       "      <td>0</td>\n",
       "      <td>Research &amp; Development</td>\n",
       "      <td>2090</td>\n",
       "      <td>15</td>\n",
       "      <td>0</td>\n",
       "      <td>2</td>\n",
       "      <td>1</td>\n",
       "    </tr>\n",
       "    <tr>\n",
       "      <th>3</th>\n",
       "      <td>0</td>\n",
       "      <td>32</td>\n",
       "      <td>4</td>\n",
       "      <td>2</td>\n",
       "      <td>Life Sciences</td>\n",
       "      <td>4</td>\n",
       "      <td>79</td>\n",
       "      <td>3</td>\n",
       "      <td>Single</td>\n",
       "      <td>0</td>\n",
       "      <td>...</td>\n",
       "      <td>7</td>\n",
       "      <td>7</td>\n",
       "      <td>3</td>\n",
       "      <td>6</td>\n",
       "      <td>Research &amp; Development</td>\n",
       "      <td>3068</td>\n",
       "      <td>13</td>\n",
       "      <td>0</td>\n",
       "      <td>3</td>\n",
       "      <td>1</td>\n",
       "    </tr>\n",
       "    <tr>\n",
       "      <th>4</th>\n",
       "      <td>0</td>\n",
       "      <td>38</td>\n",
       "      <td>3</td>\n",
       "      <td>3</td>\n",
       "      <td>Life Sciences</td>\n",
       "      <td>4</td>\n",
       "      <td>44</td>\n",
       "      <td>2</td>\n",
       "      <td>Single</td>\n",
       "      <td>0</td>\n",
       "      <td>...</td>\n",
       "      <td>9</td>\n",
       "      <td>7</td>\n",
       "      <td>1</td>\n",
       "      <td>8</td>\n",
       "      <td>Research &amp; Development</td>\n",
       "      <td>9526</td>\n",
       "      <td>21</td>\n",
       "      <td>0</td>\n",
       "      <td>2</td>\n",
       "      <td>1</td>\n",
       "    </tr>\n",
       "    <tr>\n",
       "      <th>5</th>\n",
       "      <td>0</td>\n",
       "      <td>29</td>\n",
       "      <td>3</td>\n",
       "      <td>2</td>\n",
       "      <td>Life Sciences</td>\n",
       "      <td>4</td>\n",
       "      <td>49</td>\n",
       "      <td>2</td>\n",
       "      <td>Single</td>\n",
       "      <td>0</td>\n",
       "      <td>...</td>\n",
       "      <td>9</td>\n",
       "      <td>5</td>\n",
       "      <td>0</td>\n",
       "      <td>8</td>\n",
       "      <td>Research &amp; Development</td>\n",
       "      <td>4193</td>\n",
       "      <td>12</td>\n",
       "      <td>0</td>\n",
       "      <td>4</td>\n",
       "      <td>0</td>\n",
       "    </tr>\n",
       "  </tbody>\n",
       "</table>\n",
       "<p>5 rows × 24 columns</p>\n",
       "</div>"
      ],
      "text/plain": [
       "            Attrition_binary  Age  JobSatisfaction  Education EducationField  \\\n",
       "EmployeeID                                                                     \n",
       "1                          1   41                4          2  Life Sciences   \n",
       "2                          1   37                3          2          Other   \n",
       "3                          0   32                4          2  Life Sciences   \n",
       "4                          0   38                3          3  Life Sciences   \n",
       "5                          0   29                3          2  Life Sciences   \n",
       "\n",
       "            EnvironmentSatisfaction  HourlyRate  JobInvolvement MaritalStatus  \\\n",
       "EmployeeID                                                                      \n",
       "1                                 2          94               3        Single   \n",
       "2                                 4          92               2        Single   \n",
       "3                                 4          79               3        Single   \n",
       "4                                 4          44               2        Single   \n",
       "5                                 4          49               2        Single   \n",
       "\n",
       "            NumCompaniesWorked  ...  YearsAtCompany  YearsInCurrentRole  \\\n",
       "EmployeeID                      ...                                       \n",
       "1                            8  ...               6                   4   \n",
       "2                            6  ...               0                   0   \n",
       "3                            0  ...               7                   7   \n",
       "4                            0  ...               9                   7   \n",
       "5                            0  ...               9                   5   \n",
       "\n",
       "            YearsSinceLastPromotion  YearsWithCurrManager  \\\n",
       "EmployeeID                                                  \n",
       "1                                 0                     5   \n",
       "2                                 0                     0   \n",
       "3                                 3                     6   \n",
       "4                                 1                     8   \n",
       "5                                 0                     8   \n",
       "\n",
       "                        Department  MonthlyIncome  PercentSalaryHike  \\\n",
       "EmployeeID                                                             \n",
       "1                            Sales           5993                 11   \n",
       "2           Research & Development           2090                 15   \n",
       "3           Research & Development           3068                 13   \n",
       "4           Research & Development           9526                 21   \n",
       "5           Research & Development           4193                 12   \n",
       "\n",
       "            children Manager_relation_satisfaction  Gender_Male  \n",
       "EmployeeID                                                       \n",
       "1                  0                             1            0  \n",
       "2                  0                             2            1  \n",
       "3                  0                             3            1  \n",
       "4                  0                             2            1  \n",
       "5                  0                             4            0  \n",
       "\n",
       "[5 rows x 24 columns]"
      ]
     },
     "execution_count": 24,
     "metadata": {},
     "output_type": "execute_result"
    }
   ],
   "source": [
    "# Convert gender to dummy variable\n",
    "data_gender_dummy = pd.get_dummies(data, columns=['Gender'], drop_first=True)\n",
    "data_gender_dummy.head()"
   ]
  },
  {
   "cell_type": "code",
   "execution_count": 25,
   "id": "e4c514dd-79cf-4b3d-a6b4-d51a1ef01037",
   "metadata": {},
   "outputs": [
    {
     "data": {
      "text/plain": [
       "Gender_Male\n",
       "0    0.147959\n",
       "1    0.170068\n",
       "Name: Attrition_binary, dtype: float64"
      ]
     },
     "execution_count": 25,
     "metadata": {},
     "output_type": "execute_result"
    }
   ],
   "source": [
    "# Explore the likelihood of attrition based on gender - Male=1 Female=0\n",
    "data_gender_attrition = data_gender_dummy.groupby('Gender_Male')['Attrition_binary'].mean()\n",
    "data_gender_attrition"
   ]
  },
  {
   "cell_type": "markdown",
   "id": "dce99b6e-a170-437f-94e9-92b53a1a1a9e",
   "metadata": {},
   "source": [
    "---\n",
    "\n",
    "#### Do levels of attrition (job satisfaction) vary by department?"
   ]
  },
  {
   "cell_type": "code",
   "execution_count": 26,
   "id": "1fbcaf7f-b656-4dc5-af89-f44fadcf5a0d",
   "metadata": {},
   "outputs": [
    {
     "data": {
      "text/plain": [
       "<AxesSubplot:title={'center':'Likelihood of employee attrition for each department'}, ylabel='Department'>"
      ]
     },
     "execution_count": 26,
     "metadata": {},
     "output_type": "execute_result"
    },
    {
     "data": {
      "image/png": "[encoded data removed]",
      "text/plain": [
       "<Figure size 360x144 with 1 Axes>"
      ]
     },
     "metadata": {
      "needs_background": "light"
     },
     "output_type": "display_data"
    }
   ],
   "source": [
    "# Explore the likelihood of attrition based on department employees are working in\n",
    "data_department_attrition_count = data.groupby('Department')['Attrition_binary'].count()\n",
    "data_department_attrition_mean = data.groupby('Department')['Attrition_binary'].mean()\n",
    "data_department_attrition_mean.plot(kind='barh', figsize=(5,2), title=\"Likelihood of employee attrition for each department\")"
   ]
  },
  {
   "cell_type": "markdown",
   "id": "02abbfc2-f9c3-4736-87b3-8b6f2da659bd",
   "metadata": {},
   "source": [
    "---\n",
    "\n",
    "#### Do levels of attrition (job satisfaction) vary by education level or education field?"
   ]
  },
  {
   "cell_type": "code",
   "execution_count": 27,
   "id": "23d55b59-6f50-4bc4-94b2-9706b59bdb6a",
   "metadata": {},
   "outputs": [
    {
     "data": {
      "text/plain": [
       "<AxesSubplot:title={'center':'Likelihood of employee attrition for each education level'}, ylabel='Education'>"
      ]
     },
     "execution_count": 27,
     "metadata": {},
     "output_type": "execute_result"
    },
    {
     "data": {
      "image/png": "[encoded data removed]",
      "text/plain": [
       "<Figure size 576x288 with 1 Axes>"
      ]
     },
     "metadata": {
      "needs_background": "light"
     },
     "output_type": "display_data"
    }
   ],
   "source": [
    "# Explore the likelihood of attrition based on education level\n",
    "data_edu_level_attrition = data.groupby('Education')['Attrition_binary'].mean()\n",
    "# Education 1 = Lowest 5 = Highest\n",
    "data_edu_level_attrition.plot(kind='barh', figsize=(8,4), title=\"Likelihood of employee attrition for each education level\")"
   ]
  },
  {
   "cell_type": "code",
   "execution_count": 28,
   "id": "1bfed699-aaff-4df7-8528-201ab324094c",
   "metadata": {},
   "outputs": [
    {
     "data": {
      "text/plain": [
       "<AxesSubplot:title={'center':'Likelihood of employee attrition for each educational field'}, ylabel='EducationField'>"
      ]
     },
     "execution_count": 28,
     "metadata": {},
     "output_type": "execute_result"
    },
    {
     "data": {
      "image/png": "[encoded data removed]",
      "text/plain": [
       "<Figure size 432x288 with 1 Axes>"
      ]
     },
     "metadata": {
      "needs_background": "light"
     },
     "output_type": "display_data"
    }
   ],
   "source": [
    "# Explore the likelihood of attrition based on educational field\n",
    "data_edu_field_attrition = data.groupby('EducationField')['Attrition_binary'].mean()\n",
    "data_edu_field_attrition.plot(kind='barh', title=\"Likelihood of employee attrition for each educational field\")"
   ]
  },
  {
   "cell_type": "markdown",
   "id": "d3447077-730b-4489-b833-f253fc774b40",
   "metadata": {},
   "source": [
    "---\n",
    "\n",
    "#### Do levels of attrition (job satisfaction) vary as a function of an employee's marital status or the number of children they have?"
   ]
  },
  {
   "cell_type": "code",
   "execution_count": 29,
   "id": "c99a9bf0-d8a2-4e34-9f1d-6efae8ebdd60",
   "metadata": {},
   "outputs": [
    {
     "data": {
      "text/plain": [
       "<AxesSubplot:title={'center':'Likelihood of employee attrition for each marital status'}, ylabel='MaritalStatus'>"
      ]
     },
     "execution_count": 29,
     "metadata": {},
     "output_type": "execute_result"
    },
    {
     "data": {
      "image/png": "[encoded data removed]",
      "text/plain": [
       "<Figure size 432x144 with 1 Axes>"
      ]
     },
     "metadata": {
      "needs_background": "light"
     },
     "output_type": "display_data"
    }
   ],
   "source": [
    "# Explore the likelihood of attrition based on marital status\n",
    "data_marriage_attrition = data.groupby('MaritalStatus')['Attrition_binary'].mean()\n",
    "data_marriage_attrition.plot(kind='barh', figsize=(6,2), title=\"Likelihood of employee attrition for each marital status\")"
   ]
  },
  {
   "cell_type": "code",
   "execution_count": 30,
   "id": "d0357699-7db2-4ad5-bc00-88351fdf60cb",
   "metadata": {},
   "outputs": [
    {
     "data": {
      "text/plain": [
       "<AxesSubplot:title={'center':'Likelihood of employee attrition for the number of children each employee has'}, ylabel='children'>"
      ]
     },
     "execution_count": 30,
     "metadata": {},
     "output_type": "execute_result"
    },
    {
     "data": {
      "image/png": "[encoded data removed]",
      "text/plain": [
       "<Figure size 432x288 with 1 Axes>"
      ]
     },
     "metadata": {
      "needs_background": "light"
     },
     "output_type": "display_data"
    }
   ],
   "source": [
    "# Explore the likelihood of attrition based on the number of children each employee has\n",
    "data_num_child_attrition = data.groupby('children')['Attrition_binary'].mean()\n",
    "data_num_child_attrition.plot(kind='barh', title=\"Likelihood of employee attrition for the number of children each employee has\")"
   ]
  },
  {
   "cell_type": "markdown",
   "id": "b17e00d8-2bf2-4f61-9ce2-90c362c70fd8",
   "metadata": {},
   "source": [
    "---\n",
    "\n",
    "#### Is attrition (or job satisfaction) predicted by employee's hourly pay rate, monthly income, or the most recent percent increase in their salary? If yes, is it a good predictor, or are there better predictors?"
   ]
  },
  {
   "cell_type": "code",
   "execution_count": 31,
   "id": "0d92f62f-d13f-4867-b3b3-9c5fbe4f7966",
   "metadata": {},
   "outputs": [
    {
     "data": {
      "text/plain": [
       "<AxesSubplot:title={'center':'Likelihood of employee attrition based on the most recent pay hike'}, ylabel='PercentSalaryHikeGroup'>"
      ]
     },
     "execution_count": 31,
     "metadata": {},
     "output_type": "execute_result"
    },
    {
     "data": {
      "image/png": "[encoded data removed]",
      "text/plain": [
       "<Figure size 432x288 with 1 Axes>"
      ]
     },
     "metadata": {
      "needs_background": "light"
     },
     "output_type": "display_data"
    }
   ],
   "source": [
    "# Group the data for easier interpretation\n",
    "bins = [0,13,16,19,22,100]\n",
    "labels = ['10-12%','13-15%','16-18%','19-21%','22% or more']\n",
    "data['PercentSalaryHikeGroup'] = pd.cut(data['PercentSalaryHike'], bins=bins, labels=labels, right=False)\n",
    "\n",
    "# Explore the likelihood of attrition based on the most recent pay hike\n",
    "data_percent_salary_hike_attrition = data.groupby('PercentSalaryHikeGroup')['Attrition_binary'].mean()\n",
    "data_percent_salary_hike_attrition.plot(kind='barh', title=\"Likelihood of employee attrition based on the most recent pay hike\")"
   ]
  },
  {
   "cell_type": "code",
   "execution_count": 32,
   "id": "16f49c31-622a-43d3-934c-c1c136e889fb",
   "metadata": {},
   "outputs": [
    {
     "data": {
      "text/plain": [
       "<AxesSubplot:title={'center':'Likelihood of employee attrition based on employee hourly wage'}, ylabel='HourlyRateGroup'>"
      ]
     },
     "execution_count": 32,
     "metadata": {},
     "output_type": "execute_result"
    },
    {
     "data": {
      "image/png": "[encoded data removed]",
      "text/plain": [
       "<Figure size 432x288 with 1 Axes>"
      ]
     },
     "metadata": {
      "needs_background": "light"
     },
     "output_type": "display_data"
    }
   ],
   "source": [
    "# Group the data for easier interpretation\n",
    "bins = [0,40,60,80,1000]\n",
    "labels = ['$20 - $39 per hour','$40 - $59 per hour','$60 - $79 per hour','$80 or more per hour']\n",
    "data['HourlyRateGroup'] = pd.cut(data['HourlyRate'], bins=bins, labels=labels, right=False)\n",
    "\n",
    "# Explore the likelihood of attrition based on hourly wage\n",
    "data_hourly_rate_attrition = data.groupby('HourlyRateGroup')['Attrition_binary'].mean()\n",
    "data_hourly_rate_attrition.plot(kind='barh', title=\"Likelihood of employee attrition based on employee hourly wage\")"
   ]
  },
  {
   "cell_type": "code",
   "execution_count": 33,
   "id": "a2b08542-f93d-468f-a725-21a8dfff5525",
   "metadata": {},
   "outputs": [
    {
     "data": {
      "text/plain": [
       "<AxesSubplot:title={'center':'Likelihood of employee attrition based on monthly income'}, ylabel='MonthlyIncomeGroup'>"
      ]
     },
     "execution_count": 33,
     "metadata": {},
     "output_type": "execute_result"
    },
    {
     "data": {
      "image/png": "[encoded data removed]",
      "text/plain": [
       "<Figure size 432x288 with 1 Axes>"
      ]
     },
     "metadata": {
      "needs_background": "light"
     },
     "output_type": "display_data"
    }
   ],
   "source": [
    "# Group the data for easier interpretation\n",
    "bins = [0,2500,5000,7500,10000,12500,15000,50000]\n",
    "labels = ['Below $2500','$2500 - $4999','$5000-$7499','$7500-$9999','$10000-$12499','$12500-$14999','$15000 or more']\n",
    "data['MonthlyIncomeGroup'] = pd.cut(data['MonthlyIncome'], bins=bins, labels=labels, right=False)\n",
    "\n",
    "# Explore the likelihood of attrition based on monthly income\n",
    "data_monthly_income_attrition = data.groupby('MonthlyIncomeGroup')['Attrition_binary'].mean()\n",
    "data_monthly_income_attrition.plot(kind='barh', title='Likelihood of employee attrition based on monthly income')"
   ]
  },
  {
   "cell_type": "code",
   "execution_count": 34,
   "id": "e27defd6-dcf1-4d76-b994-62da72fe978b",
   "metadata": {},
   "outputs": [
    {
     "data": {
      "text/plain": [
       "MonthlyIncomeGroup\n",
       "Below $2500       224\n",
       "$2500 - $4999     525\n",
       "$5000-$7499       310\n",
       "$7500-$9999       130\n",
       "$10000-$12499      91\n",
       "$12500-$14999      57\n",
       "$15000 or more    133\n",
       "Name: MonthlyIncome, dtype: int64"
      ]
     },
     "execution_count": 34,
     "metadata": {},
     "output_type": "execute_result"
    }
   ],
   "source": [
    "# Explore the number of employee in each group\n",
    "count_income_group = data.groupby('MonthlyIncomeGroup').count()\n",
    "count_income_group['MonthlyIncome']"
   ]
  },
  {
   "cell_type": "markdown",
   "id": "cbce9d60-183c-4b8c-8cf8-63232a35a333",
   "metadata": {},
   "source": [
    "---\n",
    "\n",
    "#### Do levels of attrition (job satisfaction) vary as a function of an employee's performance?"
   ]
  },
  {
   "cell_type": "code",
   "execution_count": 35,
   "id": "f864a53b-ec71-470d-9af5-7e4027d15236",
   "metadata": {},
   "outputs": [
    {
     "data": {
      "text/plain": [
       "<AxesSubplot:title={'center':'Likelihood of employee attrition based on performance rating'}, ylabel='PerformanceRating'>"
      ]
     },
     "execution_count": 35,
     "metadata": {},
     "output_type": "execute_result"
    },
    {
     "data": {
      "image/png": "[encoded data removed]",
      "text/plain": [
       "<Figure size 432x288 with 1 Axes>"
      ]
     },
     "metadata": {
      "needs_background": "light"
     },
     "output_type": "display_data"
    }
   ],
   "source": [
    "# Explore the likelihood of attrition based on performance rating\n",
    "data_performance_attrition = data.groupby('PerformanceRating')['Attrition_binary'].count()\n",
    "data_performance_attrition.plot(kind='barh', title=\"Likelihood of employee attrition based on performance rating\")"
   ]
  },
  {
   "cell_type": "code",
   "execution_count": 36,
   "id": "5199adfe-23a3-4140-8975-ff1720ceb61d",
   "metadata": {},
   "outputs": [
    {
     "data": {
      "text/plain": [
       "PerformanceRating\n",
       "3    1244\n",
       "4     226\n",
       "Name: Attrition_binary, dtype: int64"
      ]
     },
     "execution_count": 36,
     "metadata": {},
     "output_type": "execute_result"
    }
   ],
   "source": [
    "# Explore the number of employee in each group\n",
    "data.groupby('PerformanceRating')['Attrition_binary'].count()"
   ]
  },
  {
   "cell_type": "code",
   "execution_count": 37,
   "id": "261ca461-1a3a-4c65-b1c1-f7a9d1f0f54d",
   "metadata": {},
   "outputs": [
    {
     "data": {
      "text/plain": [
       "<AxesSubplot:title={'center':'Likelihood of employee attrition based on job involvement'}, ylabel='JobInvolvement'>"
      ]
     },
     "execution_count": 37,
     "metadata": {},
     "output_type": "execute_result"
    },
    {
     "data": {
      "image/png": "[encoded data removed]",
      "text/plain": [
       "<Figure size 432x288 with 1 Axes>"
      ]
     },
     "metadata": {
      "needs_background": "light"
     },
     "output_type": "display_data"
    }
   ],
   "source": [
    "# Explore the likelihood of attrition based on job involvement\n",
    "data_attrition_JobInvolvement = data.groupby('JobInvolvement')['Attrition_binary'].mean()\n",
    "data_attrition_JobInvolvement.plot(kind='barh', title=\"Likelihood of employee attrition based on job involvement\")"
   ]
  },
  {
   "cell_type": "code",
   "execution_count": 38,
   "id": "47826f6e-db9d-4140-b7f6-4087f6049fe4",
   "metadata": {},
   "outputs": [
    {
     "data": {
      "text/plain": [
       "JobInvolvement\n",
       "1     83\n",
       "2    375\n",
       "3    868\n",
       "4    144\n",
       "Name: Attrition_binary, dtype: int64"
      ]
     },
     "execution_count": 38,
     "metadata": {},
     "output_type": "execute_result"
    }
   ],
   "source": [
    "# Explore the number of employee in each group\n",
    "data.groupby('JobInvolvement')['Attrition_binary'].count()"
   ]
  },
  {
   "cell_type": "markdown",
   "id": "62425f1b-5712-4c15-8f01-f24e08a67a00",
   "metadata": {},
   "source": [
    "---\n",
    "\n",
    "#### Do levels of attrition (job satisfaction) vary as a function of the quality of an emplyee's work environment, as measured by employee's self-reported \"EnvironmentSatisfaction\", \"WorkLifeBalance\", and overall relationship with their manager (measured by the \"Manager_relation_satisfaction\" variable)"
   ]
  },
  {
   "cell_type": "code",
   "execution_count": 39,
   "id": "e818c159-f619-4c2d-878a-9eafc167dd09",
   "metadata": {},
   "outputs": [
    {
     "data": {
      "text/plain": [
       "<AxesSubplot:title={'center':'Likelihood of employee attrition based on their environment satisfaction rating'}, ylabel='EnvironmentSatisfaction'>"
      ]
     },
     "execution_count": 39,
     "metadata": {},
     "output_type": "execute_result"
    },
    {
     "data": {
      "image/png": "[encoded data removed]",
      "text/plain": [
       "<Figure size 432x288 with 1 Axes>"
      ]
     },
     "metadata": {
      "needs_background": "light"
     },
     "output_type": "display_data"
    }
   ],
   "source": [
    "# Explore the likelihood of attrition based on environment satisfaction rating\n",
    "data_attrition_environment_satisfaction = data.groupby('EnvironmentSatisfaction')['Attrition_binary'].mean()\n",
    "data_attrition_environment_satisfaction.plot(kind='barh', title=\"Likelihood of employee attrition based on their environment satisfaction rating\")"
   ]
  },
  {
   "cell_type": "code",
   "execution_count": 40,
   "id": "eab873c3-a02d-4fe2-9100-4da212d4c835",
   "metadata": {},
   "outputs": [
    {
     "data": {
      "text/plain": [
       "<AxesSubplot:title={'center':'Likelihood of employee attrition based on their manager relation satisfaction rating'}, ylabel='Manager_relation_satisfaction'>"
      ]
     },
     "execution_count": 40,
     "metadata": {},
     "output_type": "execute_result"
    },
    {
     "data": {
      "image/png": "[encoded data removed]",
      "text/plain": [
       "<Figure size 432x288 with 1 Axes>"
      ]
     },
     "metadata": {
      "needs_background": "light"
     },
     "output_type": "display_data"
    }
   ],
   "source": [
    "# Explore the likelihood of attrition based on manager relation satisfaction rating\n",
    "data_attrition_manager_relation_satisfaction = data.groupby('Manager_relation_satisfaction')['Attrition_binary'].mean()\n",
    "data_attrition_manager_relation_satisfaction.plot(kind='barh', title=\"Likelihood of employee attrition based on their manager relation satisfaction rating\")"
   ]
  },
  {
   "cell_type": "code",
   "execution_count": 41,
   "id": "542e9e1a-97a4-414b-8954-4d500f5bd3e5",
   "metadata": {},
   "outputs": [
    {
     "data": {
      "text/plain": [
       "<AxesSubplot:title={'center':'Likelihood of employee attrition based on their work-life balance rating'}, ylabel='WorkLifeBalance'>"
      ]
     },
     "execution_count": 41,
     "metadata": {},
     "output_type": "execute_result"
    },
    {
     "data": {
      "image/png": "[encoded data removed]",
      "text/plain": [
       "<Figure size 432x288 with 1 Axes>"
      ]
     },
     "metadata": {
      "needs_background": "light"
     },
     "output_type": "display_data"
    }
   ],
   "source": [
    "# Explore the likelihood of attrition based on work-life balance rating\n",
    "data_attrition_work_life_balance = data.groupby('WorkLifeBalance')['Attrition_binary'].mean()\n",
    "data_attrition_work_life_balance.plot(kind='barh', title=\"Likelihood of employee attrition based on their work-life balance rating\")"
   ]
  },
  {
   "cell_type": "code",
   "execution_count": 42,
   "id": "afa6f9db-53e7-46fb-8007-cfccfe91c0f9",
   "metadata": {},
   "outputs": [],
   "source": [
    "# Logistic regression and odds ratios for this category only\n",
    "# result_logit_happiness = mba263.logit(data['Attrition_binary'],data[['EnvironmentSatisfaction','Manager_relation_satisfaction','WorkLifeBalance']])"
   ]
  },
  {
   "cell_type": "code",
   "execution_count": 43,
   "id": "c2aeb60c-589a-4f17-8691-5647395b3c72",
   "metadata": {},
   "outputs": [],
   "source": [
    "# data['predicted_happiness'] = result_logit_happiness.predict()"
   ]
  },
  {
   "cell_type": "code",
   "execution_count": 44,
   "id": "dfe998bc-49a6-49c8-a545-acd7656c9fc9",
   "metadata": {},
   "outputs": [],
   "source": [
    "# data['predicted_happiness']"
   ]
  },
  {
   "cell_type": "code",
   "execution_count": 45,
   "id": "ae75aeb2-f819-4f41-a78d-1d4eebbee1ba",
   "metadata": {},
   "outputs": [],
   "source": [
    "# result_logit_happiness.summary()"
   ]
  },
  {
   "cell_type": "code",
   "execution_count": 46,
   "id": "8e172f67-cf2d-4792-9fad-419e54da15ff",
   "metadata": {},
   "outputs": [],
   "source": [
    "# Summary of odds ratios\n",
    "# mba263.odds_ratios(result_logit_happiness)"
   ]
  },
  {
   "cell_type": "markdown",
   "id": "788d6c17-74fa-428e-bab5-1e1280e1bca8",
   "metadata": {},
   "source": [
    "---\n",
    "\n",
    "#### Does having a recent promotion succeed in reducing attrition (or increasing job satisfaction)?"
   ]
  },
  {
   "cell_type": "code",
   "execution_count": 47,
   "id": "3a7b5cf9-9000-4a8c-81fb-bfa43b2df833",
   "metadata": {},
   "outputs": [],
   "source": [
    "# Group the data for easier interpretation\n",
    "bins = [0,2,4,9,100]\n",
    "labels = ['0-1 year','2-3 years','4-8 years','9 years or more']\n",
    "data['YearPromoGroup'] = pd.cut(data['YearsSinceLastPromotion'], bins=bins, labels=labels, right=False)"
   ]
  },
  {
   "cell_type": "code",
   "execution_count": 48,
   "id": "c6e2b166-75a1-4161-9609-8c9c731bea82",
   "metadata": {},
   "outputs": [
    {
     "data": {
      "text/plain": [
       "YearPromoGroup\n",
       "0-1 year           938\n",
       "2-3 years          211\n",
       "4-8 years          232\n",
       "9 years or more     89\n",
       "Name: Attrition_binary, dtype: int64"
      ]
     },
     "execution_count": 48,
     "metadata": {},
     "output_type": "execute_result"
    }
   ],
   "source": [
    "# Explore the number of employee in each group\n",
    "data.groupby('YearPromoGroup')['Attrition_binary'].count()"
   ]
  },
  {
   "cell_type": "code",
   "execution_count": 49,
   "id": "16aea4b6-a0d4-42dd-a854-f6bd5699aa01",
   "metadata": {},
   "outputs": [
    {
     "data": {
      "text/plain": [
       "<AxesSubplot:title={'center':'Likelihood of employee attrition based on the recency of last promotion'}, ylabel='YearPromoGroup'>"
      ]
     },
     "execution_count": 49,
     "metadata": {},
     "output_type": "execute_result"
    },
    {
     "data": {
      "image/png": "[encoded data removed]",
      "text/plain": [
       "<Figure size 432x288 with 1 Axes>"
      ]
     },
     "metadata": {
      "needs_background": "light"
     },
     "output_type": "display_data"
    }
   ],
   "source": [
    "# Explore the likelihood of attrition based on the recency of last promotion\n",
    "data_attrition_promotion = data.groupby('YearPromoGroup')['Attrition_binary'].mean()\n",
    "data_attrition_promotion.plot(kind='barh', title=\"Likelihood of employee attrition based on the recency of last promotion\")"
   ]
  },
  {
   "cell_type": "markdown",
   "id": "73d95087-67c8-49c5-96cc-4d48ca99743e",
   "metadata": {},
   "source": [
    "---\n",
    "\n",
    "#### How do levels of attrition (job satisfaction) vary as a function of the number of years that an employee has spent at the company, or of the number of years an employee has worked with their manager?"
   ]
  },
  {
   "cell_type": "markdown",
   "id": "0560dfb9-51e7-447f-bd26-62b37b8c293d",
   "metadata": {},
   "source": [
    "**Likelihood of employee attrition based on years employee spent working at IBM**"
   ]
  },
  {
   "cell_type": "code",
   "execution_count": 50,
   "id": "7d49a005-a960-47ff-9b09-f5abb5722b4b",
   "metadata": {},
   "outputs": [],
   "source": [
    "# Group the data for easier interpretation\n",
    "bins = [0,10,20,30,100]\n",
    "labels = ['0-9 years','10-19 years','20-29 years','30 years or more']\n",
    "data['YearsAtCompanyGroup'] = pd.cut(data['YearsAtCompany'], bins=bins, labels=labels, right=False)"
   ]
  },
  {
   "cell_type": "code",
   "execution_count": 51,
   "id": "16e30477-ec1a-44bc-afbc-999105a1fdbb",
   "metadata": {},
   "outputs": [
    {
     "data": {
      "text/plain": [
       "YearsAtCompanyGroup\n",
       "0-9 years           1104\n",
       "10-19 years          273\n",
       "20-29 years           76\n",
       "30 years or more      17\n",
       "Name: Attrition_binary, dtype: int64"
      ]
     },
     "execution_count": 51,
     "metadata": {},
     "output_type": "execute_result"
    }
   ],
   "source": [
    "# Explore the number of employee in each group\n",
    "data.groupby('YearsAtCompanyGroup')['Attrition_binary'].count()"
   ]
  },
  {
   "cell_type": "code",
   "execution_count": 52,
   "id": "61e09df5-b7bf-41cf-92c3-04711e5c52f3",
   "metadata": {},
   "outputs": [
    {
     "data": {
      "text/plain": [
       "<AxesSubplot:title={'center':'Likelihood of employee attrition based on the number of years employee spent working at IBM'}, ylabel='YearsAtCompanyGroup'>"
      ]
     },
     "execution_count": 52,
     "metadata": {},
     "output_type": "execute_result"
    },
    {
     "data": {
      "image/png": "[encoded data removed]",
      "text/plain": [
       "<Figure size 432x288 with 1 Axes>"
      ]
     },
     "metadata": {
      "needs_background": "light"
     },
     "output_type": "display_data"
    }
   ],
   "source": [
    "# Explore the likelihood of attrition based on the number of years employee spent working at IBM\n",
    "data_attrition_YearsAtCompany = data.groupby('YearsAtCompanyGroup')['Attrition_binary'].mean()\n",
    "data_attrition_YearsAtCompany.plot(kind='barh', title=\"Likelihood of employee attrition based on the number of years employee spent working at IBM\")"
   ]
  },
  {
   "cell_type": "markdown",
   "id": "6d87dd98-1121-46b3-bd38-4e2659d49088",
   "metadata": {},
   "source": [
    "**Likelihood of employee attrition based on years with current manager at IBM**"
   ]
  },
  {
   "cell_type": "code",
   "execution_count": 53,
   "id": "0b85a743-f0fd-4c27-8765-bd1731a02148",
   "metadata": {},
   "outputs": [],
   "source": [
    "# Group the data for easier interpretation\n",
    "bins = [0,3,6,9,100]\n",
    "labels = ['0-2 years','3-5 years','6-8 years','9 years or more']\n",
    "data['YearsWithCurrManagerGroup'] = pd.cut(data['YearsWithCurrManager'], bins=bins, labels=labels, right=False)"
   ]
  },
  {
   "cell_type": "code",
   "execution_count": 54,
   "id": "56d1317f-ad1f-45bd-96f7-a9101a343053",
   "metadata": {},
   "outputs": [
    {
     "data": {
      "text/plain": [
       "YearsWithCurrManagerGroup\n",
       "0-2 years          683\n",
       "3-5 years          271\n",
       "6-8 years          352\n",
       "9 years or more    164\n",
       "Name: Attrition_binary, dtype: int64"
      ]
     },
     "execution_count": 54,
     "metadata": {},
     "output_type": "execute_result"
    }
   ],
   "source": [
    "# Explore the number of employee in each group\n",
    "data.groupby('YearsWithCurrManagerGroup')['Attrition_binary'].count()"
   ]
  },
  {
   "cell_type": "code",
   "execution_count": 55,
   "id": "459d363e-b43f-4a39-896c-98c1501b42cf",
   "metadata": {},
   "outputs": [
    {
     "data": {
      "text/plain": [
       "<AxesSubplot:title={'center':'Likelihood of employee attrition based on the number of years with current manager at IBM'}, ylabel='YearsWithCurrManagerGroup'>"
      ]
     },
     "execution_count": 55,
     "metadata": {},
     "output_type": "execute_result"
    },
    {
     "data": {
      "image/png": "[encoded data removed]",
      "text/plain": [
       "<Figure size 432x288 with 1 Axes>"
      ]
     },
     "metadata": {
      "needs_background": "light"
     },
     "output_type": "display_data"
    }
   ],
   "source": [
    "# Explore the likelihood of attrition based on the number of years with current manager at IBM\n",
    "data_attrition_YearsWithCurrManager = data.groupby('YearsWithCurrManagerGroup')['Attrition_binary'].mean()\n",
    "data_attrition_YearsWithCurrManager.plot(kind='barh', title=\"Likelihood of employee attrition based on the number of years with current manager at IBM\")"
   ]
  },
  {
   "cell_type": "code",
   "execution_count": null,
   "id": "6177d32b-e983-4d15-83a0-e7315a0fb8b2",
   "metadata": {},
   "outputs": [],
   "source": []
  }
 ],
 "metadata": {
  "kernelspec": {
   "display_name": "Python 3 (ipykernel)",
   "language": "python",
   "name": "python3"
  },
  "language_info": {
   "codemirror_mode": {
    "name": "ipython",
    "version": 3
   },
   "file_extension": ".py",
   "mimetype": "text/x-python",
   "name": "python",
   "nbconvert_exporter": "python",
   "pygments_lexer": "ipython3",
   "version": "3.7.11"
  }
 },
 "nbformat": 4,
 "nbformat_minor": 5
}
